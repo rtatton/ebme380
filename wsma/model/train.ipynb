{
 "nbformat": 4,
 "nbformat_minor": 0,
 "metadata": {
  "colab": {
   "name": "train.ipynb",
   "provenance": [],
   "collapsed_sections": []
  },
  "kernelspec": {
   "display_name": "Python 3",
   "name": "python3"
  },
  "language_info": {
   "name": "python"
  }
 },
 "cells": [
  {
   "cell_type": "markdown",
   "metadata": {
    "id": "emN-qCp3_cu5"
   },
   "source": [
    "# Wearable Stress Measurement System Model Training"
   ]
  },
  {
   "cell_type": "markdown",
   "metadata": {
    "id": "NgYt-CPl_spf"
   },
   "source": [
    "## Notebook Setup"
   ]
  },
  {
   "cell_type": "code",
   "metadata": {
    "colab": {
     "base_uri": "https://localhost:8080/"
    },
    "id": "HQO3wZ9kEmNw",
    "executionInfo": {
     "status": "ok",
     "timestamp": 1621323922644,
     "user_tz": 240,
     "elapsed": 31873,
     "user": {
      "displayName": "Ryan Tatton",
      "photoUrl": "https://lh3.googleusercontent.com/a-/AOh14Gi87IwZhpwGoijZQWOHH0WXsIqt2DVi9xhorCgP0g=s64",
      "userId": "08539869109813470655"
     }
    },
    "outputId": "31e4ce97-a0e4-4e23-f121-6fc787ff3366"
   },
   "source": [
    "# Mount Google Drive\n",
    "from google.colab import drive\n",
    "drive.mount('/content/gdrive')\n",
    "\n",
    "# Create a symbolic link for more readable paths\n",
    "!ln -s /content/gdrive/My\\ Drive/training/ /mydrive\n",
    "!ls /mydrive \n",
    "\n",
    "# Download and mount cuDNN (Colab runtime must be set to GPU!)\n",
    "!tar -xzvf /mydrive/cuDNN/cudnn-11.3-linux-x64-v8.2.0.53.tgz -C /usr/local/\n",
    "!chmod a+r /usr/local/cuda/include/cudnn.h\n",
    "# (and check the version)\n",
    "!cat /usr/local/cuda/include/cudnn.h | grep CUDNN_MAJOR -A 2\n",
    "\n",
    "# TODO See references for remaining tutorial on Colab notebook setup"
   ],
   "execution_count": 1,
   "outputs": [
    {
     "output_type": "stream",
     "text": [
      "Mounted at /content/gdrive\n",
      "cuDNN  distracted  mit\ttraining\n",
      "tar (child): /mydrive/cuDNN/cudnn-11.3-linux-x64-v8.2.0.53.tgz: Cannot open: No such file or directory\n",
      "tar (child): Error is not recoverable: exiting now\n",
      "tar: Child returned status 2\n",
      "tar: Error is not recoverable: exiting now\n",
      "chmod: cannot access '/usr/local/cuda/include/cudnn.h': No such file or directory\n",
      "cat: /usr/local/cuda/include/cudnn.h: No such file or directory\n"
     ],
     "name": "stdout"
    }
   ]
  },
  {
   "cell_type": "markdown",
   "metadata": {
    "id": "t-rmkOH8RDr9"
   },
   "source": [
    "## References\n",
    "1. The original [MIT Driver Stress dataset](https://doi.org/10.13026/C2SG6B)\n",
    "2. Preprocessing code and clean version of the MIT Driver Stress dataset:\n",
    " - [GitHub repo](https://github.com/chriotte/Stress_classifier_with_AutoML_and_wearable_devices)\n",
    " - [Tutorial](https://dataespresso.com/en/2019/01/30/Stress-detection-with-wearable-devices-and-Machine-Learning/)\n",
    "3. [Tutorial for setting up Google Colab](https://dev.to/kriyeng/8-tips-for-google-colab-notebooks-to-take-advantage-of-their-free-of-charge-12gb-ram-gpu-be4)\n"
   ]
  },
  {
   "cell_type": "code",
   "metadata": {
    "id": "XNyQVIcR-9lf"
   },
   "source": [
    ""
   ],
   "execution_count": null,
   "outputs": []
  }
 ]
}